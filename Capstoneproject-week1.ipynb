{
 "cells": [
  {
   "cell_type": "markdown",
   "metadata": {},
   "source": [
    "# The Battle of the Neighborhoods -- Week 1\n",
    "\n",
    "## Introduction & Business Problem:\n",
    "\n",
    "### _Background:_\n",
    "London is the capital of the United Kingdom, it's the most populous city of the United Kingdom and also one of the most popular tourist city in the world. The multicultural and the diversity of the population provides a lot of business opportunities and a friendly environment.\n",
    "\n",
    "However, the market can be really competitive based on multiple reasons. Therefore, any new business venture should be carefully analysed to understand the business environment, thus, reduce the risk.\n",
    "\n",
    "### _Problem:_\n",
    "In this project, I will use Foursquare API and machine learning segmentation and clustering to find a location for opening a restaurant.\n",
    "The analysis of the location of restaurant would be base on:\n",
    "1. Immigration history of each Borough to determine the food culture of each area.\n",
    "2. The number and the categories of the restaurants in each venue.\n",
    "\n",
    "\n",
    "The data required in this project:\n",
    "1. The demography of London for determining the food culture in each area.\n",
    "2. The List of London boroughs will be used for finding neighbourhoods.\n",
    "3. The neighborhood in each area to determine how competitive would be in this area.\n",
    "\n"
   ]
  }
 ],
 "metadata": {
  "kernelspec": {
   "display_name": "Python 3",
   "language": "python",
   "name": "python3"
  },
  "language_info": {
   "codemirror_mode": {
    "name": "ipython",
    "version": 3
   },
   "file_extension": ".py",
   "mimetype": "text/x-python",
   "name": "python",
   "nbconvert_exporter": "python",
   "pygments_lexer": "ipython3",
   "version": "3.7.0"
  }
 },
 "nbformat": 4,
 "nbformat_minor": 2
}
